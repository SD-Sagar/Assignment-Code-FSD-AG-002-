{
  "nbformat": 4,
  "nbformat_minor": 0,
  "metadata": {
    "colab": {
      "provenance": []
    },
    "kernelspec": {
      "name": "python3",
      "display_name": "Python 3"
    },
    "language_info": {
      "name": "python"
    }
  },
  "cells": [
    {
      "cell_type": "markdown",
      "source": [
        " 1. What are semantic HTML elements? Why is using them important for web\n",
        "    development?\n",
        "\n",
        "       --> HTML tags that give their content more than just display are known as semantic HTML elements.  They explain the objective of the information they include.  For instance, a `<footer>` element is used for the information at the end of a page, but a `<header>` element is used for introductory text or a collection of navigational links.  Non-semantic elements, such as `<div>` and `<span>`, on the other hand, don't express any meaning regarding its content.\n",
        "       \n",
        "       Because semantic HTML components give a webpage meaningful structure—which is necessary for accessibility, search engine optimization (SEO), and code maintainability—they are critical for web development.  By communicating the intent of the content they contain, these components go beyond plain appearance and improve the web's readability for both humans and computers.\n"
      ],
      "metadata": {
        "id": "UCFOoeq_MqP0"
      }
    },
    {
      "cell_type": "markdown",
      "source": [
        "2.  You're designing a blog page. Which semantic elements would you use to\n",
        "    structure the page, and why?\n",
        "\n",
        "     ->>A blog page would be logically structured and easy for search engines and readers to comprehend by utilizing a variety of semantic features.  Copyright and contact details would be stored in the `<footer>` element, while the blog's title and primary navigation `(<nav>)` would be contained in the `<header>` element.  The `<main>` element would include all of the page's primary content, including the blog entries.  Every blog post would use the `<article>` element to function as a separate, self-contained entity.  Related information may be grouped within a post using a `<section>` element, and extra content, such as an author profile or a sidebar with recent articles, would be contained in a `<aside>` element."
      ],
      "metadata": {
        "id": "pYnoUnBbPHtF"
      }
    },
    {
      "cell_type": "markdown",
      "source": [
        "3.  How can you make an HTML form more accessible to users with disabilities?\n",
        "  \n",
        "     -->>Using a `<label>` element for each input field and connecting it to the for and id properties can help make an HTML form more accessible by allowing screen readers to understand its function.  Use a `<fieldset>` to group relevant fields with a `<legend>` to provide users a logical, understandable structure that screen readers can understand.  Make sure that aria-describedby is used to programmatically and visually link error messages and clear instructions to their fields.  In order to give useful context for all users, including those on mobile devices, ensure sure the form is also completely navigable and operable with only a keyboard, has a visible focus indication, and uses the appropriate semantic input types `(such as type=\"email\" and type=\"tel\")`."
      ],
      "metadata": {
        "id": "y7TaAywBPfbV"
      }
    },
    {
      "cell_type": "markdown",
      "source": [
        "4.  Identify and correct the errors in the following CSS code:\n",
        "       \n",
        "        \n",
        "```\n",
        "        p {\n",
        "          font-size: 16;\n",
        "          color: #333\n",
        "          margin-top 10px;\n",
        "          }\n",
        "```\n",
        "     ->> Here is the corrected css code\n",
        "\n",
        "```\n",
        "        p {\n",
        "          font-size: 16px; /*Here the css unit was missing \"px\" */\n",
        "          color: #333;     /*Here the terminator \";\" was missing*/\n",
        "          margin-top: 10px; /*Here \":\" was missing*/\n",
        "          }\n",
        "```\n",
        "\n",
        "\n",
        "\n",
        "\n",
        "\n",
        "\n",
        "\n"
      ],
      "metadata": {
        "id": "uPeh5SgUQWUe"
      }
    },
    {
      "cell_type": "markdown",
      "source": [
        "5.  Write CSS rules to style all `<h2>` elements inside a `<section>` with a\n",
        "    blue color and center alignment.\n",
        "\n",
        "      ->>   The CSS rule section h2 targets all `<h2>` elements that are descendants of a `<section>` element. The rule then applies the specified styles to these targeted elements,`(Like the example below)` making the text blue and centered.\n",
        "\n",
        "```\n",
        "  section h2 {\n",
        "    color: blue;\n",
        "    text-align: center;\n",
        "   }\n",
        "```\n",
        "\n"
      ],
      "metadata": {
        "id": "MocPh40NTCMf"
      }
    },
    {
      "cell_type": "markdown",
      "source": [
        "6.  Explain the CSS box model and its components.\n",
        "\n",
        "   ->>One basic idea that explains how items are displayed on a webpage is the CSS Box Model.  Consider each HTML element as a rectangle box.  This model specifies the content, padding, borders, and margins of these boxes as well as their overall structure and arrangement.\n",
        "\n",
        "      \n",
        "The box model consists of four main components, working from the innermost part to the outermost:\n",
        "\n",
        "\n",
        "*   Content: This is the innermost part of the box, where the actual content of the element is displayed, such as text, images, or other media. Its dimensions are determined by the element's height and width.\n",
        "\n",
        "*   Padding: The padding is the space between the content and the border. It's used to give the content some breathing room and is not affected by the background color of the element itself.\n",
        "\n",
        "*   Border: The border is a line that goes around the padding and content. It's an optional component, and you can style its width, color, and style `(e.g., solid, dotted, dashed).`\n",
        "\n",
        "*  Margin: The margin is the outermost layer of the box, providing a transparent space around the border. It's used to create distance between elements. Unlike padding, the margin is always transparent and takes on the background color of its parent element.\n",
        "\n",
        "\n"
      ],
      "metadata": {
        "id": "4i9QbF9wURwv"
      }
    },
    {
      "cell_type": "markdown",
      "source": [
        "7.  How do the relative, absolute, and fixed positioning properties differ in\n",
        "CSS?\n",
        "\n",
        "     ->>\n",
        "     \n",
        "     Relative positioning places an element relative to its original position in the document flow, but its original space is preserved.\n",
        "\n",
        "     Absolute positioning removes an element from the normal flow and positions it relative to its nearest positioned parent.\n",
        "\n",
        "     Fixed positioning also removes an element from the flow but positions it relative to the browser viewport, so it stays in place even when the page is scrolled."
      ],
      "metadata": {
        "id": "Ap6u7azTVLev"
      }
    },
    {
      "cell_type": "markdown",
      "source": [
        "8.  Write a CSS rule to set a background image for a `<div>` with the class\n",
        ".banner, ensuring the image covers the entire area without repeating.\n",
        "\n",
        "   ->>\n",
        "\n",
        "```\n",
        "<!DOCTYPE html>\n",
        "<html lang=\"en\">\n",
        "<head>\n",
        "    <meta charset=\"UTF-8\">\n",
        "    <meta name=\"viewport\" content=\"width=device-width, initial-scale=1.0\">\n",
        "    <title>Backgroung Image</title>\n",
        "</head>\n",
        "<style>\n",
        "      .banner{\n",
        "        height: 100vh;\n",
        "        width: 100%;\n",
        "        text-align: center;\n",
        "        color: white;\n",
        "        background-image: url(\"https://t4.ftcdn.net/jpg/00/67/24/59/360_F_67245954_ejVa8C414CwJ9X0UadIFu1QEUjeLuFnO.jpg\");\n",
        "        background-repeat: no-repeat;\n",
        "        background-size: cover;\n",
        "    }\n",
        "</style>\n",
        "    \n",
        "<body>\n",
        "    <div class=\"banner\">\n",
        "        <h1>This is a Banner</h1>\n",
        "    </div>\n",
        "</body>\n",
        "</html>\n",
        "```\n",
        "\n"
      ],
      "metadata": {
        "id": "H8PPF2QfVx7g"
      }
    }
  ]
}